{
 "cells": [
  {
   "cell_type": "markdown",
   "id": "0041d394-a85b-4f40-bd89-cffc8b875591",
   "metadata": {},
   "source": [
    "# Based on the papers\n",
    "\n",
    "[1] https://journals.aps.org/rmp/pdf/10.1103/RevModPhys.35.457\n",
    "\n",
    "and\n",
    "\n",
    "[2] https://doi.org/10.1063/1.1681683"
   ]
  },
  {
   "cell_type": "code",
   "execution_count": 1,
   "id": "4fdd8d5e-891b-49e3-bfb0-7dca94fba65a",
   "metadata": {},
   "outputs": [],
   "source": [
    "import numpy as np\n",
    "import sympy as sym\n",
    "\n",
    "sym.init_printing()"
   ]
  },
  {
   "cell_type": "code",
   "execution_count": 2,
   "id": "a7d93328-1d8c-429d-b97b-9126f7d35732",
   "metadata": {},
   "outputs": [],
   "source": [
    "cos = sym.cos\n",
    "sin = sym.sin"
   ]
  },
  {
   "cell_type": "markdown",
   "id": "239559c6-d8bb-4e94-b754-3db9e311e171",
   "metadata": {},
   "source": [
    "# Angles $\\alpha$ and $\\gamma$"
   ]
  },
  {
   "cell_type": "code",
   "execution_count": 3,
   "id": "aa1704e3-8ead-43fb-b627-2bc4a14425ad",
   "metadata": {},
   "outputs": [
    {
     "data": {
      "image/png": "[encoded data removed]",
      "text/latex": [
       "$\\displaystyle \\left( \\alpha, \\  \\gamma\\right)$"
      ],
      "text/plain": [
       "(α, γ)"
      ]
     },
     "execution_count": 3,
     "metadata": {},
     "output_type": "execute_result"
    }
   ],
   "source": [
    "a, g = sym.symbols(\"alpha gamma\", real=True)\n",
    "a, g"
   ]
  },
  {
   "cell_type": "raw",
   "id": "f656e4a6-a8ee-4801-b7ab-43a1b3f9a3b9",
   "metadata": {},
   "source": [
    "A, B = sym.symbols(\"A B\", real=True)\n",
    "A, B"
   ]
  },
  {
   "cell_type": "markdown",
   "id": "0d5f27b5-5999-46ef-8f69-5e69af3dc6f1",
   "metadata": {},
   "source": [
    "# Original, unrotated orbitals $\\phi_1$ and $\\phi_2$"
   ]
  },
  {
   "cell_type": "code",
   "execution_count": 4,
   "id": "05a5224c-f12a-4927-a0e7-1dad3fa2c494",
   "metadata": {},
   "outputs": [
    {
     "data": {
      "image/png": "[encoded data removed]",
      "text/latex": [
       "$\\displaystyle \\left( \\phi_{1}, \\  \\phi_{2}\\right)$"
      ],
      "text/plain": [
       "(φ₁, φ₂)"
      ]
     },
     "execution_count": 4,
     "metadata": {},
     "output_type": "execute_result"
    }
   ],
   "source": [
    "p1, p2 = sym.symbols(\"phi_1 phi_2\", real=True)\n",
    "p1, p2"
   ]
  },
  {
   "cell_type": "markdown",
   "id": "e567d478-9e46-406e-ae6a-3d45a7aa6a2c",
   "metadata": {},
   "source": [
    "# Matrix elements/expectation values of a 1-electron operator $\\mathbf{\\hat{\\mu}}$ over unrotated orbitals $\\phi_1$ and $\\phi_2$: $\\mu_{11}$, $\\mu_{22}$ and $\\mu_{12}$"
   ]
  },
  {
   "cell_type": "code",
   "execution_count": 5,
   "id": "a4add7b1-1063-463a-9320-68c136986998",
   "metadata": {},
   "outputs": [
    {
     "data": {
      "image/png": "[encoded data removed]",
      "text/latex": [
       "$\\displaystyle \\left( \\mu_{11}, \\  \\mu_{22}, \\  \\mu_{12}\\right)$"
      ],
      "text/plain": [
       "(μ₁₁, μ₂₂, μ₁₂)"
      ]
     },
     "execution_count": 5,
     "metadata": {},
     "output_type": "execute_result"
    }
   ],
   "source": [
    "m11, m22, m12 = sym.symbols(\"mu_11 mu_22 mu_12\", real=True)\n",
    "m11, m22, m12"
   ]
  },
  {
   "cell_type": "code",
   "execution_count": 6,
   "id": "2a5eea72-8431-4694-bf63-4681ea3f8774",
   "metadata": {},
   "outputs": [
    {
     "data": {
      "image/png": "[encoded data removed]",
      "text/latex": [
       "$\\displaystyle \\left( \\mu_{12}^{2} - \\frac{\\left(\\mu_{11} - \\mu_{22}\\right)^{2}}{4}, \\  \\mu_{12} \\left(\\mu_{11} - \\mu_{22}\\right)\\right)$"
      ],
      "text/plain": [
       "⎛                  2                 ⎞\n",
       "⎜   2   (μ₁₁ - μ₂₂)                  ⎟\n",
       "⎜μ₁₂  - ────────────, μ₁₂⋅(μ₁₁ - μ₂₂)⎟\n",
       "⎝            4                       ⎠"
      ]
     },
     "execution_count": 6,
     "metadata": {},
     "output_type": "execute_result"
    }
   ],
   "source": [
    "A12 = m12**2 - sym.Rational(1, 4) * (m11 - m22)**2\n",
    "B12 = (m11 - m22) * m12\n",
    "A12, B12"
   ]
  },
  {
   "cell_type": "code",
   "execution_count": 7,
   "id": "83b8888b-635e-42ee-b7e0-9379b591b56c",
   "metadata": {},
   "outputs": [
    {
     "data": {
      "image/png": "[encoded data removed]",
      "text/latex": [
       "$\\displaystyle \\mu_{12}^{2} - \\frac{\\left(\\mu_{11} - \\mu_{22}\\right)^{2}}{4} + \\sqrt{\\mu_{12}^{2} \\left(\\mu_{11} - \\mu_{22}\\right)^{2} + \\left(\\mu_{12}^{2} - \\frac{\\left(\\mu_{11} - \\mu_{22}\\right)^{2}}{4}\\right)^{2}} \\cos{\\left(4 \\gamma \\right)}$"
      ],
      "text/plain": [
       "                            ____________________________________________         \n",
       "                           ╱                                          2          \n",
       "                  2       ╱                      ⎛                  2⎞           \n",
       "   2   (μ₁₁ - μ₂₂)       ╱      2            2   ⎜   2   (μ₁₁ - μ₂₂) ⎟           \n",
       "μ₁₂  - ──────────── +   ╱    μ₁₂ ⋅(μ₁₁ - μ₂₂)  + ⎜μ₁₂  - ────────────⎟  ⋅cos(4⋅γ)\n",
       "            4         ╲╱                         ⎝            4      ⎠           "
      ]
     },
     "execution_count": 7,
     "metadata": {},
     "output_type": "execute_result"
    }
   ],
   "source": [
    "ref_diff = A12 + sym.sqrt(A12**2 + B12**2) * cos(4*g)\n",
    "ref_diff"
   ]
  },
  {
   "cell_type": "markdown",
   "id": "5c6f9671-ad59-4e07-906b-374395a61750",
   "metadata": {},
   "source": [
    "# Expecation values of $\\mathbf{\\hat{\\mu}}$ over rotated orbitals $u_1$ and $u_2$ in terms of matrix elements over unrotated orbitals $\\phi_1$ and $\\phi_2$\n",
    "\n",
    "$$\n",
    "\\begin{align}\n",
    "u_1 &= \\cos(\\gamma) \\phi_1 + \\sin(\\gamma) \\phi_2 \\\\\n",
    "u_2 &= -\\sin(\\gamma) \\phi_1 + \\cos(\\gamma) \\phi_2\n",
    "\\end{align}\n",
    "$$"
   ]
  },
  {
   "cell_type": "code",
   "execution_count": 8,
   "id": "49f1dcee-62ce-4934-8578-20ba91b51346",
   "metadata": {},
   "outputs": [
    {
     "data": {
      "image/png": "[encoded data removed]",
      "text/latex": [
       "$\\displaystyle \\left( \\phi_{1} \\cos{\\left(\\gamma \\right)} + \\phi_{2} \\sin{\\left(\\gamma \\right)}, \\  - \\phi_{1} \\sin{\\left(\\gamma \\right)} + \\phi_{2} \\cos{\\left(\\gamma \\right)}\\right)$"
      ],
      "text/plain": [
       "(φ₁⋅cos(γ) + φ₂⋅sin(γ), -φ₁⋅sin(γ) + φ₂⋅cos(γ))"
      ]
     },
     "execution_count": 8,
     "metadata": {},
     "output_type": "execute_result"
    }
   ],
   "source": [
    "u1 = cos(g) * p1 + sin(g) * p2\n",
    "u2 = -sin(g) * p1 + cos(g) * p2\n",
    "u1, u2"
   ]
  },
  {
   "cell_type": "code",
   "execution_count": 9,
   "id": "57dbe68b-abdd-4c7a-ae73-dfd1a61709bd",
   "metadata": {},
   "outputs": [],
   "source": [
    "subs = {\n",
    "    p1**2: m11,\n",
    "    p1*p2: m12,\n",
    "    p2*p1: m12,\n",
    "    p2**2: m22,\n",
    "}"
   ]
  },
  {
   "cell_type": "code",
   "execution_count": 10,
   "id": "cd2092f1-8b48-461d-be4c-53893cf778ad",
   "metadata": {},
   "outputs": [
    {
     "data": {
      "image/png": "[encoded data removed]",
      "text/latex": [
       "$\\displaystyle \\mu_{11} \\cos^{2}{\\left(\\gamma \\right)} + 2 \\mu_{12} \\sin{\\left(\\gamma \\right)} \\cos{\\left(\\gamma \\right)} + \\mu_{22} \\sin^{2}{\\left(\\gamma \\right)}$"
      ],
      "text/plain": [
       "       2                                   2   \n",
       "μ₁₁⋅cos (γ) + 2⋅μ₁₂⋅sin(γ)⋅cos(γ) + μ₂₂⋅sin (γ)"
      ]
     },
     "execution_count": 10,
     "metadata": {},
     "output_type": "execute_result"
    }
   ],
   "source": [
    "u11 = (u1**2).expand().subs(subs)\n",
    "u11"
   ]
  },
  {
   "cell_type": "code",
   "execution_count": 11,
   "id": "be451e38-4593-462f-99a5-f04ca3b42431",
   "metadata": {},
   "outputs": [
    {
     "data": {
      "image/png": "[encoded data removed]",
      "text/latex": [
       "$\\displaystyle \\mu_{11} \\sin^{2}{\\left(\\gamma \\right)} - 2 \\mu_{12} \\sin{\\left(\\gamma \\right)} \\cos{\\left(\\gamma \\right)} + \\mu_{22} \\cos^{2}{\\left(\\gamma \\right)}$"
      ],
      "text/plain": [
       "       2                                   2   \n",
       "μ₁₁⋅sin (γ) - 2⋅μ₁₂⋅sin(γ)⋅cos(γ) + μ₂₂⋅cos (γ)"
      ]
     },
     "execution_count": 11,
     "metadata": {},
     "output_type": "execute_result"
    }
   ],
   "source": [
    "u22 = (u2**2).expand().subs(subs)\n",
    "u22"
   ]
  },
  {
   "cell_type": "raw",
   "id": "5ee24476-f3d7-439f-b338-fab675435b85",
   "metadata": {},
   "source": [
    "u11 = cos(g)**2 * m11 + 2 * cos(g) * sin(g) * m12 + sin(g)**2 * m22\n",
    "u11"
   ]
  },
  {
   "cell_type": "code",
   "execution_count": 12,
   "id": "864f58ef-ad0d-491b-aadf-347eebf8715c",
   "metadata": {},
   "outputs": [
    {
     "data": {
      "image/png": "[encoded data removed]",
      "text/latex": [
       "$\\displaystyle \\mu_{11} \\sin^{2}{\\left(\\gamma \\right)} - 2 \\mu_{12} \\sin{\\left(\\gamma \\right)} \\cos{\\left(\\gamma \\right)} + \\mu_{22} \\cos^{2}{\\left(\\gamma \\right)}$"
      ],
      "text/plain": [
       "       2                                   2   \n",
       "μ₁₁⋅sin (γ) - 2⋅μ₁₂⋅sin(γ)⋅cos(γ) + μ₂₂⋅cos (γ)"
      ]
     },
     "execution_count": 12,
     "metadata": {},
     "output_type": "execute_result"
    }
   ],
   "source": [
    "u22 = sin(g)**2 * m11 - 2 * cos(g) * sin(g) * m12 + cos(g)**2 * m22\n",
    "u22"
   ]
  },
  {
   "cell_type": "markdown",
   "id": "7ac01b35-7690-475b-aa16-621d6343b678",
   "metadata": {},
   "source": [
    "# Cost function over two rotated orbitals $u_1$ and $u_2$"
   ]
  },
  {
   "cell_type": "code",
   "execution_count": 13,
   "id": "beea053f-1b6a-4263-9974-85a0c205a7c5",
   "metadata": {},
   "outputs": [
    {
     "data": {
      "image/png": "[encoded data removed]",
      "text/latex": [
       "$\\displaystyle \\left(\\mu_{11} \\sin^{2}{\\left(\\gamma \\right)} - 2 \\mu_{12} \\sin{\\left(\\gamma \\right)} \\cos{\\left(\\gamma \\right)} + \\mu_{22} \\cos^{2}{\\left(\\gamma \\right)}\\right)^{2} + \\left(\\mu_{11} \\cos^{2}{\\left(\\gamma \\right)} + 2 \\mu_{12} \\sin{\\left(\\gamma \\right)} \\cos{\\left(\\gamma \\right)} + \\mu_{22} \\sin^{2}{\\left(\\gamma \\right)}\\right)^{2}$"
      ],
      "text/plain": [
       "                                                 2                                                    2\n",
       "⎛       2                                   2   ⎞    ⎛       2                                   2   ⎞ \n",
       "⎝μ₁₁⋅sin (γ) - 2⋅μ₁₂⋅sin(γ)⋅cos(γ) + μ₂₂⋅cos (γ)⎠  + ⎝μ₁₁⋅cos (γ) + 2⋅μ₁₂⋅sin(γ)⋅cos(γ) + μ₂₂⋅sin (γ)⎠ "
      ]
     },
     "execution_count": 13,
     "metadata": {},
     "output_type": "execute_result"
    }
   ],
   "source": [
    "D = u11**2 + u22**2\n",
    "D"
   ]
  },
  {
   "cell_type": "code",
   "execution_count": 14,
   "id": "d1aa6fba-17bc-40ff-9082-e710655632e3",
   "metadata": {},
   "outputs": [
    {
     "data": {
      "image/png": "[encoded data removed]",
      "text/latex": [
       "$\\displaystyle \\frac{\\mu_{11}^{2} \\cos^{2}{\\left(2 \\gamma \\right)}}{2} + \\frac{\\mu_{11}^{2}}{2} + \\mu_{11} \\mu_{12} \\sin{\\left(4 \\gamma \\right)} - \\mu_{11} \\mu_{22} \\cos^{2}{\\left(2 \\gamma \\right)} + \\mu_{11} \\mu_{22} - 2 \\mu_{12}^{2} \\cos^{2}{\\left(2 \\gamma \\right)} + 2 \\mu_{12}^{2} - \\mu_{12} \\mu_{22} \\sin{\\left(4 \\gamma \\right)} + \\frac{\\mu_{22}^{2} \\cos^{2}{\\left(2 \\gamma \\right)}}{2} + \\frac{\\mu_{22}^{2}}{2}$"
      ],
      "text/plain": [
       "   2    2           2                                                                                                      2    2           2\n",
       "μ₁₁ ⋅cos (2⋅γ)   μ₁₁                                  2                       2    2             2                      μ₂₂ ⋅cos (2⋅γ)   μ₂₂ \n",
       "────────────── + ──── + μ₁₁⋅μ₁₂⋅sin(4⋅γ) - μ₁₁⋅μ₂₂⋅cos (2⋅γ) + μ₁₁⋅μ₂₂ - 2⋅μ₁₂ ⋅cos (2⋅γ) + 2⋅μ₁₂  - μ₁₂⋅μ₂₂⋅sin(4⋅γ) + ────────────── + ────\n",
       "      2           2                                                                                                           2           2  "
      ]
     },
     "execution_count": 14,
     "metadata": {},
     "output_type": "execute_result"
    }
   ],
   "source": [
    "D1 = D.expand().simplify()\n",
    "D1"
   ]
  },
  {
   "cell_type": "markdown",
   "id": "304f2025-cf16-4241-af12-8cbbd0d7f280",
   "metadata": {},
   "source": [
    "# Substitute using Pythagorean trigonometric identity $\\cos^2(x) + \\sin^2(x) = 1$"
   ]
  },
  {
   "cell_type": "code",
   "execution_count": 15,
   "id": "20be8a76-1902-4538-b83c-afb3a98d3382",
   "metadata": {},
   "outputs": [
    {
     "data": {
      "image/png": "[encoded data removed]",
      "text/latex": [
       "$\\displaystyle - \\frac{\\mu_{11}^{2} \\sin^{2}{\\left(2 \\gamma \\right)}}{2} + \\mu_{11}^{2} + \\mu_{11} \\mu_{12} \\sin{\\left(4 \\gamma \\right)} - \\mu_{11} \\mu_{22} \\cos^{2}{\\left(2 \\gamma \\right)} + \\mu_{11} \\mu_{22} - 2 \\mu_{12}^{2} \\cos^{2}{\\left(2 \\gamma \\right)} + 2 \\mu_{12}^{2} - \\mu_{12} \\mu_{22} \\sin{\\left(4 \\gamma \\right)} - \\frac{\\mu_{22}^{2} \\sin^{2}{\\left(2 \\gamma \\right)}}{2} + \\mu_{22}^{2}$"
      ],
      "text/plain": [
       "     2    2                                                                                                                  2    2            \n",
       "  μ₁₁ ⋅sin (2⋅γ)      2                                 2                       2    2             2                      μ₂₂ ⋅sin (2⋅γ)      2\n",
       "- ────────────── + μ₁₁  + μ₁₁⋅μ₁₂⋅sin(4⋅γ) - μ₁₁⋅μ₂₂⋅cos (2⋅γ) + μ₁₁⋅μ₂₂ - 2⋅μ₁₂ ⋅cos (2⋅γ) + 2⋅μ₁₂  - μ₁₂⋅μ₂₂⋅sin(4⋅γ) - ────────────── + μ₂₂ \n",
       "        2                                                                                                                       2              "
      ]
     },
     "execution_count": 15,
     "metadata": {},
     "output_type": "execute_result"
    }
   ],
   "source": [
    "subs1 = {\n",
    "    (m11**2 * cos(2*g)**2) / 2: (m11**2 * (1  - sin(2*g)**2)) / 2,\n",
    "    (m22**2 * cos(2*g)**2) / 2: (m22**2 * (1  - sin(2*g)**2)) / 2,\n",
    "}\n",
    "D2 = D1.subs(subs1).simplify()\n",
    "D2"
   ]
  },
  {
   "cell_type": "markdown",
   "id": "d97a28c6-2554-42d0-9207-58cece3add8b",
   "metadata": {},
   "source": [
    "# Substract original cost function that does not depend on the rotation angle $\\gamma$"
   ]
  },
  {
   "cell_type": "code",
   "execution_count": 16,
   "id": "55848002-3b46-4dac-907b-0d095831da68",
   "metadata": {},
   "outputs": [
    {
     "data": {
      "image/png": "[encoded data removed]",
      "text/latex": [
       "$\\displaystyle - \\frac{\\mu_{11}^{2} \\sin^{2}{\\left(2 \\gamma \\right)}}{2} + \\mu_{11} \\mu_{12} \\sin{\\left(4 \\gamma \\right)} - \\mu_{11} \\mu_{22} \\cos^{2}{\\left(2 \\gamma \\right)} + \\mu_{11} \\mu_{22} - 2 \\mu_{12}^{2} \\cos^{2}{\\left(2 \\gamma \\right)} + 2 \\mu_{12}^{2} - \\mu_{12} \\mu_{22} \\sin{\\left(4 \\gamma \\right)} - \\frac{\\mu_{22}^{2} \\sin^{2}{\\left(2 \\gamma \\right)}}{2}$"
      ],
      "text/plain": [
       "     2    2                                                                                                           2    2     \n",
       "  μ₁₁ ⋅sin (2⋅γ)                                 2                       2    2             2                      μ₂₂ ⋅sin (2⋅γ)\n",
       "- ────────────── + μ₁₁⋅μ₁₂⋅sin(4⋅γ) - μ₁₁⋅μ₂₂⋅cos (2⋅γ) + μ₁₁⋅μ₂₂ - 2⋅μ₁₂ ⋅cos (2⋅γ) + 2⋅μ₁₂  - μ₁₂⋅μ₂₂⋅sin(4⋅γ) - ──────────────\n",
       "        2                                                                                                                2       "
      ]
     },
     "execution_count": 16,
     "metadata": {},
     "output_type": "execute_result"
    }
   ],
   "source": [
    "D3 = D2 - m11**2 - m22**2\n",
    "D3"
   ]
  },
  {
   "cell_type": "code",
   "execution_count": 17,
   "id": "6166d4ca-ea08-4c6c-b531-feb7b6d91550",
   "metadata": {},
   "outputs": [
    {
     "data": {
      "image/png": "[encoded data removed]",
      "text/latex": [
       "$\\displaystyle \\mu_{11} \\mu_{22} + 2 \\mu_{12}^{2} + \\mu_{12} \\left(\\mu_{11} - \\mu_{22}\\right) \\sin{\\left(4 \\gamma \\right)} - \\frac{\\left(\\mu_{11}^{2} + \\mu_{22}^{2}\\right) \\sin^{2}{\\left(2 \\gamma \\right)}}{2} - \\left(\\mu_{11} \\mu_{22} + 2 \\mu_{12}^{2}\\right) \\cos^{2}{\\left(2 \\gamma \\right)}$"
      ],
      "text/plain": [
       "                                              ⎛   2      2⎞    2                                    \n",
       "               2                              ⎝μ₁₁  + μ₂₂ ⎠⋅sin (2⋅γ)   ⎛               2⎞    2     \n",
       "μ₁₁⋅μ₂₂ + 2⋅μ₁₂  + μ₁₂⋅(μ₁₁ - μ₂₂)⋅sin(4⋅γ) - ─────────────────────── - ⎝μ₁₁⋅μ₂₂ + 2⋅μ₁₂ ⎠⋅cos (2⋅γ)\n",
       "                                                         2                                          "
      ]
     },
     "execution_count": 17,
     "metadata": {},
     "output_type": "execute_result"
    }
   ],
   "source": [
    "D4 = D3.collect(-sin(2*g)**2 / 2).collect(sin(4*g)).collect(cos(2*g)**2).simplify()\n",
    "D4"
   ]
  },
  {
   "cell_type": "code",
   "execution_count": 18,
   "id": "64337720-2d71-4fcd-b535-308c0707590c",
   "metadata": {},
   "outputs": [
    {
     "data": {
      "image/png": "[encoded data removed]",
      "text/latex": [
       "$\\displaystyle \\mu_{12} \\left(\\mu_{11} - \\mu_{22}\\right) \\sin{\\left(4 \\gamma \\right)} + \\left(- \\frac{\\mu_{11}^{2}}{2} + \\mu_{11} \\mu_{22} + 2 \\mu_{12}^{2} - \\frac{\\mu_{22}^{2}}{2}\\right) \\sin^{2}{\\left(2 \\gamma \\right)}$"
      ],
      "text/plain": [
       "                           ⎛     2                         2⎞          \n",
       "                           ⎜  μ₁₁                   2   μ₂₂ ⎟    2     \n",
       "μ₁₂⋅(μ₁₁ - μ₂₂)⋅sin(4⋅γ) + ⎜- ──── + μ₁₁⋅μ₂₂ + 2⋅μ₁₂  - ────⎟⋅sin (2⋅γ)\n",
       "                           ⎝   2                         2  ⎠          "
      ]
     },
     "execution_count": 18,
     "metadata": {},
     "output_type": "execute_result"
    }
   ],
   "source": [
    "D4_1 = D4.collect(m11*m22 + 2*m12**2).subs(1-cos(2*g)**2, sin(2*g)**2).collect(sin(2*g)**2)\n",
    "D4_1"
   ]
  },
  {
   "cell_type": "code",
   "execution_count": 19,
   "id": "ad3fbcd6-45a3-4038-8a16-bc170cbe0543",
   "metadata": {},
   "outputs": [],
   "source": [
    "assert (D4_1 + m11**2 + m22**2 - D).simplify() == 0"
   ]
  },
  {
   "cell_type": "markdown",
   "id": "0031601d-5116-4c39-a0d8-1c4c9be57566",
   "metadata": {},
   "source": [
    "# Calculate derivative w.r.t. $\\gamma$ to determine extremal points"
   ]
  },
  {
   "cell_type": "code",
   "execution_count": 20,
   "id": "99fa0c1a-41a0-4138-be00-2202ea8a1550",
   "metadata": {},
   "outputs": [
    {
     "data": {
      "image/png": "[encoded data removed]",
      "text/latex": [
       "$\\displaystyle 4 \\mu_{12} \\left(\\mu_{11} - \\mu_{22}\\right) \\cos{\\left(4 \\gamma \\right)} - 2 \\left(\\mu_{11}^{2} + \\mu_{22}^{2}\\right) \\sin{\\left(2 \\gamma \\right)} \\cos{\\left(2 \\gamma \\right)} + 4 \\left(\\mu_{11} \\mu_{22} + 2 \\mu_{12}^{2}\\right) \\sin{\\left(2 \\gamma \\right)} \\cos{\\left(2 \\gamma \\right)}$"
      ],
      "text/plain": [
       "                               ⎛   2      2⎞                       ⎛               2⎞                  \n",
       "4⋅μ₁₂⋅(μ₁₁ - μ₂₂)⋅cos(4⋅γ) - 2⋅⎝μ₁₁  + μ₂₂ ⎠⋅sin(2⋅γ)⋅cos(2⋅γ) + 4⋅⎝μ₁₁⋅μ₂₂ + 2⋅μ₁₂ ⎠⋅sin(2⋅γ)⋅cos(2⋅γ)"
      ]
     },
     "execution_count": 20,
     "metadata": {},
     "output_type": "execute_result"
    }
   ],
   "source": [
    "sym.diff(D4, g)"
   ]
  },
  {
   "cell_type": "code",
   "execution_count": 21,
   "id": "bdedf4fe-a7ea-4081-848d-ee16efeead7e",
   "metadata": {},
   "outputs": [
    {
     "data": {
      "image/png": "[encoded data removed]",
      "text/latex": [
       "$\\displaystyle 4 \\mu_{12} \\left(\\mu_{11} - \\mu_{22}\\right) \\cos{\\left(4 \\gamma \\right)} + \\left(- \\mu_{11}^{2} + 2 \\mu_{11} \\mu_{22} + 4 \\mu_{12}^{2} - \\mu_{22}^{2}\\right) \\sin{\\left(4 \\gamma \\right)}$"
      ],
      "text/plain": [
       "                             ⎛     2                    2      2⎞         \n",
       "4⋅μ₁₂⋅(μ₁₁ - μ₂₂)⋅cos(4⋅γ) + ⎝- μ₁₁  + 2⋅μ₁₁⋅μ₂₂ + 4⋅μ₁₂  - μ₂₂ ⎠⋅sin(4⋅γ)"
      ]
     },
     "execution_count": 21,
     "metadata": {},
     "output_type": "execute_result"
    }
   ],
   "source": [
    "D5 = sym.diff(D4, g).simplify().collect(sin(4*g))\n",
    "D5"
   ]
  },
  {
   "cell_type": "code",
   "execution_count": 22,
   "id": "af7eaec4-57b6-44af-b285-19d6dc606044",
   "metadata": {},
   "outputs": [
    {
     "data": {
      "image/png": "[encoded data removed]",
      "text/latex": [
       "$\\displaystyle \\left( A, \\  B\\right)$"
      ],
      "text/plain": [
       "(A, B)"
      ]
     },
     "execution_count": 22,
     "metadata": {},
     "output_type": "execute_result"
    }
   ],
   "source": [
    "A, B = sym.symbols(\"A B\")\n",
    "A, B"
   ]
  },
  {
   "cell_type": "code",
   "execution_count": 23,
   "id": "9029c963-acac-4b83-b8bd-7608abd08510",
   "metadata": {},
   "outputs": [
    {
     "data": {
      "image/png": "[encoded data removed]",
      "text/latex": [
       "$\\displaystyle A \\cos{\\left(4 \\gamma \\right)} + \\left(- \\mu_{11}^{2} + 2 \\mu_{11} \\mu_{22} + 4 \\mu_{12}^{2} - \\mu_{22}^{2}\\right) \\sin{\\left(4 \\gamma \\right)}$"
      ],
      "text/plain": [
       "             ⎛     2                    2      2⎞         \n",
       "A⋅cos(4⋅γ) + ⎝- μ₁₁  + 2⋅μ₁₁⋅μ₂₂ + 4⋅μ₁₂  - μ₂₂ ⎠⋅sin(4⋅γ)"
      ]
     },
     "execution_count": 23,
     "metadata": {},
     "output_type": "execute_result"
    }
   ],
   "source": [
    "subs2 = {\n",
    "    4 * m12 * (m11 - m22): A,\n",
    "    (-m11**2 + 2*m11*m22 + 4*m12**2 - m22*2): B,\n",
    "}\n",
    "D5.subs(subs2)  "
   ]
  },
  {
   "cell_type": "markdown",
   "id": "2d0d43f8-b673-48ac-a2ae-ea0ed13383d0",
   "metadata": {},
   "source": [
    "# Substitution of second prefactor does not seem to work ..."
   ]
  },
  {
   "cell_type": "code",
   "execution_count": 24,
   "id": "4c36b124-f009-40d1-a6c2-ad2c73a430f6",
   "metadata": {},
   "outputs": [
    {
     "data": {
      "image/png": "[encoded data removed]",
      "text/latex": [
       "$\\displaystyle A \\cos{\\left(4 \\gamma \\right)} + B \\sin{\\left(4 \\gamma \\right)}$"
      ],
      "text/plain": [
       "A⋅cos(4⋅γ) + B⋅sin(4⋅γ)"
      ]
     },
     "execution_count": 24,
     "metadata": {},
     "output_type": "execute_result"
    }
   ],
   "source": [
    "D6 = A * cos(4*g) + B * sin(4*g)\n",
    "D6"
   ]
  },
  {
   "cell_type": "markdown",
   "id": "5e2b24bb-f6f8-4d45-b7d5-8a899c8bb259",
   "metadata": {},
   "source": [
    "# Solve for $\\gamma$"
   ]
  },
  {
   "cell_type": "code",
   "execution_count": 25,
   "id": "e7d55780-192a-4079-830f-05aa904d26b2",
   "metadata": {},
   "outputs": [
    {
     "data": {
      "image/png": "[encoded data removed]",
      "text/latex": [
       "$\\displaystyle \\left[ \\frac{\\operatorname{atan}{\\left(\\frac{B - \\sqrt{A^{2} + B^{2}}}{A} \\right)}}{2}, \\  \\frac{\\operatorname{atan}{\\left(\\frac{B + \\sqrt{A^{2} + B^{2}}}{A} \\right)}}{2}\\right]$"
      ],
      "text/plain": [
       "⎡    ⎛       _________⎞      ⎛       _________⎞⎤\n",
       "⎢    ⎜      ╱  2    2 ⎟      ⎜      ╱  2    2 ⎟⎥\n",
       "⎢    ⎜B - ╲╱  A  + B  ⎟      ⎜B + ╲╱  A  + B  ⎟⎥\n",
       "⎢atan⎜────────────────⎟  atan⎜────────────────⎟⎥\n",
       "⎢    ⎝       A        ⎠      ⎝       A        ⎠⎥\n",
       "⎢──────────────────────, ──────────────────────⎥\n",
       "⎣          2                       2           ⎦"
      ]
     },
     "execution_count": 25,
     "metadata": {},
     "output_type": "execute_result"
    }
   ],
   "source": [
    "gammas_extrem = sym.solve(D6, g)\n",
    "gammas_extrem"
   ]
  },
  {
   "cell_type": "markdown",
   "id": "5e66e939-45bb-4730-9e67-ee366bfc96ea",
   "metadata": {},
   "source": [
    "# Second derivative w.r.t. $\\gamma$"
   ]
  },
  {
   "cell_type": "code",
   "execution_count": 32,
   "id": "8a8e7f67-db3f-4571-ab81-1532dc98382f",
   "metadata": {},
   "outputs": [
    {
     "data": {
      "image/png": "[encoded data removed]",
      "text/latex": [
       "$\\displaystyle - 16 \\mu_{12} \\left(\\mu_{11} - \\mu_{22}\\right) \\sin{\\left(4 \\gamma \\right)} - 4 \\left(\\mu_{11}^{2} - 2 \\mu_{11} \\mu_{22} - 4 \\mu_{12}^{2} + \\mu_{22}^{2}\\right) \\cos{\\left(4 \\gamma \\right)}$"
      ],
      "text/plain": [
       "                                 ⎛   2                    2      2⎞         \n",
       "-16⋅μ₁₂⋅(μ₁₁ - μ₂₂)⋅sin(4⋅γ) - 4⋅⎝μ₁₁  - 2⋅μ₁₁⋅μ₂₂ - 4⋅μ₁₂  + μ₂₂ ⎠⋅cos(4⋅γ)"
      ]
     },
     "execution_count": 32,
     "metadata": {},
     "output_type": "execute_result"
    }
   ],
   "source": [
    "D7 = sym.diff(D5, g).simplify()\n",
    "D7"
   ]
  },
  {
   "cell_type": "code",
   "execution_count": null,
   "id": "ccc29415-527e-4a30-b2ba-89a2e0ce0d56",
   "metadata": {},
   "outputs": [],
   "source": []
  }
 ],
 "metadata": {
  "kernelspec": {
   "display_name": "Python 3 (ipykernel)",
   "language": "python",
   "name": "python3"
  },
  "language_info": {
   "codemirror_mode": {
    "name": "ipython",
    "version": 3
   },
   "file_extension": ".py",
   "mimetype": "text/x-python",
   "name": "python",
   "nbconvert_exporter": "python",
   "pygments_lexer": "ipython3",
   "version": "3.11.6"
  }
 },
 "nbformat": 4,
 "nbformat_minor": 5
}
