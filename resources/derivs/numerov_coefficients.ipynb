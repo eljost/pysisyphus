{
 "cells": [
  {
   "cell_type": "code",
   "execution_count": 1,
   "id": "88c6409b-f32e-47a9-89b6-cfaa8e0a0df7",
   "metadata": {},
   "outputs": [],
   "source": [
    "import numpy as np\n",
    "import sympy as sym"
   ]
  },
  {
   "cell_type": "code",
   "execution_count": 2,
   "id": "a70e57a2-e00c-467e-8f99-4aa3176d62b3",
   "metadata": {},
   "outputs": [],
   "source": [
    "sym.init_printing()"
   ]
  },
  {
   "cell_type": "code",
   "execution_count": 3,
   "id": "6b3ca174-6a3c-4c46-9f19-0d9d12a0c297",
   "metadata": {},
   "outputs": [],
   "source": [
    "r = 3"
   ]
  },
  {
   "cell_type": "code",
   "execution_count": 4,
   "id": "c4c6a98c-e45d-4e2d-a92b-2598622f4462",
   "metadata": {},
   "outputs": [
    {
     "data": {
      "image/png": "[encoded data removed]",
      "text/latex": [
       "$\\displaystyle d$"
      ],
      "text/plain": [
       "d"
      ]
     },
     "execution_count": 4,
     "metadata": {},
     "output_type": "execute_result"
    }
   ],
   "source": [
    "d = sym.symbols(\"d\", real=True)\n",
    "d"
   ]
  },
  {
   "cell_type": "code",
   "execution_count": 5,
   "id": "76577cfa-83c2-400b-a2cc-8bc13b303167",
   "metadata": {},
   "outputs": [
    {
     "data": {
      "image/png": "[encoded data removed]",
      "text/latex": [
       "$\\displaystyle \\left[ \\Psi_{2}, \\  \\Psi_{4}, \\  \\Psi_{6}\\right]$"
      ],
      "text/plain": [
       "[Ψ₂, Ψ₄, Ψ₆]"
      ]
     },
     "execution_count": 5,
     "metadata": {},
     "output_type": "execute_result"
    }
   ],
   "source": [
    "psis = [sym.symbols(f\"Psi_{2+2*c}\") for c in range(r)]\n",
    "psis"
   ]
  },
  {
   "cell_type": "code",
   "execution_count": 6,
   "id": "559db613-16c9-4156-8bf7-caf3d71b773d",
   "metadata": {},
   "outputs": [
    {
     "data": {
      "image/png": "[encoded data removed]",
      "text/latex": [
       "$\\displaystyle \\left( P_{0}, \\  P_{1}, \\  P_{2}, \\  P_{3}\\right)$"
      ],
      "text/plain": [
       "(P_{0}, P_{1}, P_{2}, P_{3})"
      ]
     },
     "execution_count": 6,
     "metadata": {},
     "output_type": "execute_result"
    }
   ],
   "source": [
    "phisp = sym.symbols(\" \".join([f\"P_{{{r}}}\" for r in range(r+1)]))\n",
    "phisp"
   ]
  },
  {
   "cell_type": "code",
   "execution_count": 7,
   "id": "199bcb6f-db5e-46b3-ba19-363eb0a685c5",
   "metadata": {},
   "outputs": [
    {
     "data": {
      "image/png": "[encoded data removed]",
      "text/latex": [
       "$\\displaystyle \\left( P_{0}, \\  P_{-1}, \\  P_{-2}, \\  P_{-3}\\right)$"
      ],
      "text/plain": [
       "(P_{0}, P_{-1}, P_{-2}, P_{-3})"
      ]
     },
     "execution_count": 7,
     "metadata": {},
     "output_type": "execute_result"
    }
   ],
   "source": [
    "phism = sym.symbols(\" \".join([f\"P_{{{r}}}\" for r in range(0, -r-1, -1)]))\n",
    "phism"
   ]
  },
  {
   "cell_type": "code",
   "execution_count": 8,
   "id": "547c00db-67f3-48a5-a7e9-741db428acbe",
   "metadata": {},
   "outputs": [
    {
     "data": {
      "image/png": "[encoded data removed]",
      "text/latex": [
       "$\\displaystyle \\left( P_{-3}, \\  P_{-2}, \\  P_{-1}, \\  P_{0}, \\  P_{1}, \\  P_{2}, \\  P_{3}\\right)$"
      ],
      "text/plain": [
       "(P_{-3}, P_{-2}, P_{-1}, P_{0}, P_{1}, P_{2}, P_{3})"
      ]
     },
     "execution_count": 8,
     "metadata": {},
     "output_type": "execute_result"
    }
   ],
   "source": [
    "phis = phism[1:][::-1] + phisp\n",
    "phis"
   ]
  },
  {
   "cell_type": "code",
   "execution_count": 9,
   "id": "0904992d-1551-4828-aa06-2cc4f669e960",
   "metadata": {},
   "outputs": [
    {
     "data": {
      "image/png": "[encoded data removed]",
      "text/latex": [
       "$\\displaystyle \\left[\\begin{matrix}\\Psi_{2}\\\\\\Psi_{4}\\\\\\Psi_{6}\\end{matrix}\\right]$"
      ],
      "text/plain": [
       "⎡Ψ₂⎤\n",
       "⎢  ⎥\n",
       "⎢Ψ₄⎥\n",
       "⎢  ⎥\n",
       "⎣Ψ₆⎦"
      ]
     },
     "execution_count": 9,
     "metadata": {},
     "output_type": "execute_result"
    }
   ],
   "source": [
    "psi_vec = sym.Matrix([[psi] for psi in psis])\n",
    "psi_vec"
   ]
  },
  {
   "cell_type": "code",
   "execution_count": 10,
   "id": "cd7348ff-ca3d-4925-b5c8-ae71e59cc084",
   "metadata": {},
   "outputs": [
    {
     "data": {
      "image/png": "[encoded data removed]",
      "text/latex": [
       "$\\displaystyle \\left[\\begin{matrix}\\frac{d^{2}}{2} & \\frac{d^{4}}{24} & \\frac{d^{6}}{720}\\\\2 d^{2} & \\frac{2 d^{4}}{3} & \\frac{4 d^{6}}{45}\\\\\\frac{9 d^{2}}{2} & \\frac{27 d^{4}}{8} & \\frac{81 d^{6}}{80}\\end{matrix}\\right]$"
      ],
      "text/plain": [
       "⎡  2     4      6  ⎤\n",
       "⎢ d     d      d   ⎥\n",
       "⎢ ──    ──     ─── ⎥\n",
       "⎢ 2     24     720 ⎥\n",
       "⎢                  ⎥\n",
       "⎢         4      6 ⎥\n",
       "⎢   2  2⋅d    4⋅d  ⎥\n",
       "⎢2⋅d   ────   ──── ⎥\n",
       "⎢       3      45  ⎥\n",
       "⎢                  ⎥\n",
       "⎢   2      4      6⎥\n",
       "⎢9⋅d   27⋅d   81⋅d ⎥\n",
       "⎢────  ─────  ─────⎥\n",
       "⎣ 2      8     80  ⎦"
      ]
     },
     "execution_count": 10,
     "metadata": {},
     "output_type": "execute_result"
    }
   ],
   "source": [
    "mat = list()\n",
    "for a in range(1, r+1):\n",
    "    row = list()\n",
    "    for b in range(1, r+1):\n",
    "        row.append(\n",
    "            (a * d)**(2*b) / sym.factorial(2*b)\n",
    "        )\n",
    "    mat.append(row)\n",
    "mat = sym.Matrix(mat)\n",
    "mat"
   ]
  },
  {
   "cell_type": "code",
   "execution_count": 11,
   "id": "b75c0574-fb74-4d90-b28a-832a8b988590",
   "metadata": {},
   "outputs": [
    {
     "data": {
      "image/png": "[encoded data removed]",
      "text/latex": [
       "$\\displaystyle \\left[\\begin{matrix}\\frac{\\Psi_{2} d^{2}}{2} + \\frac{\\Psi_{4} d^{4}}{24} + \\frac{\\Psi_{6} d^{6}}{720}\\\\2 \\Psi_{2} d^{2} + \\frac{2 \\Psi_{4} d^{4}}{3} + \\frac{4 \\Psi_{6} d^{6}}{45}\\\\\\frac{9 \\Psi_{2} d^{2}}{2} + \\frac{27 \\Psi_{4} d^{4}}{8} + \\frac{81 \\Psi_{6} d^{6}}{80}\\end{matrix}\\right]$"
      ],
      "text/plain": [
       "⎡        2       4       6    ⎤\n",
       "⎢    Ψ₂⋅d    Ψ₄⋅d    Ψ₆⋅d     ⎥\n",
       "⎢    ───── + ───── + ─────    ⎥\n",
       "⎢      2      24      720     ⎥\n",
       "⎢                             ⎥\n",
       "⎢                 4         6 ⎥\n",
       "⎢       2   2⋅Ψ₄⋅d    4⋅Ψ₆⋅d  ⎥\n",
       "⎢ 2⋅Ψ₂⋅d  + ─────── + ─────── ⎥\n",
       "⎢              3        45    ⎥\n",
       "⎢                             ⎥\n",
       "⎢      2          4          6⎥\n",
       "⎢9⋅Ψ₂⋅d    27⋅Ψ₄⋅d    81⋅Ψ₆⋅d ⎥\n",
       "⎢─────── + ──────── + ────────⎥\n",
       "⎣   2         8          80   ⎦"
      ]
     },
     "execution_count": 11,
     "metadata": {},
     "output_type": "execute_result"
    }
   ],
   "source": [
    "lhs = mat @ psi_vec\n",
    "lhs"
   ]
  },
  {
   "cell_type": "code",
   "execution_count": 12,
   "id": "6af7fa1f-e0b2-4d3b-b413-b4e2d0671780",
   "metadata": {},
   "outputs": [
    {
     "data": {
      "image/png": "[encoded data removed]",
      "text/latex": [
       "$\\displaystyle \\left[\\begin{matrix}\\frac{P_{-1}}{2} - P_{0} + \\frac{P_{1}}{2}\\\\\\frac{P_{-2}}{2} - P_{0} + \\frac{P_{2}}{2}\\\\\\frac{P_{-3}}{2} - P_{0} + \\frac{P_{3}}{2}\\end{matrix}\\right]$"
      ],
      "text/plain": [
       "⎡P_{-1}           P_{1}⎤\n",
       "⎢────── - P_{0} + ─────⎥\n",
       "⎢  2                2  ⎥\n",
       "⎢                      ⎥\n",
       "⎢P_{-2}           P_{2}⎥\n",
       "⎢────── - P_{0} + ─────⎥\n",
       "⎢  2                2  ⎥\n",
       "⎢                      ⎥\n",
       "⎢P_{-3}           P_{3}⎥\n",
       "⎢────── - P_{0} + ─────⎥\n",
       "⎣  2                2  ⎦"
      ]
     },
     "execution_count": 12,
     "metadata": {},
     "output_type": "execute_result"
    }
   ],
   "source": [
    "rhs = sym.Matrix([[(phism[k] - 2 * phisp[0] + phisp[k]) / 2] for k in range(1,r+1)])\n",
    "rhs"
   ]
  },
  {
   "cell_type": "code",
   "execution_count": 13,
   "id": "0250b13c-2431-4d44-962d-26bd7bb1b792",
   "metadata": {},
   "outputs": [
    {
     "data": {
      "image/png": "[encoded data removed]",
      "text/latex": [
       "$\\displaystyle \\left\\{ \\Psi_{2} : \\frac{270 P_{-1} - 27 P_{-2} + 2 P_{-3} - 490 P_{0} + 270 P_{1} - 27 P_{2} + 2 P_{3}}{180 d^{2}}, \\  \\Psi_{4} : \\frac{- 39 P_{-1} + 12 P_{-2} - P_{-3} + 56 P_{0} - 39 P_{1} + 12 P_{2} - P_{3}}{6 d^{4}}, \\  \\Psi_{6} : \\frac{15 P_{-1} - 6 P_{-2} + P_{-3} - 20 P_{0} + 15 P_{1} - 6 P_{2} + P_{3}}{d^{6}}\\right\\}$"
      ],
      "text/plain": [
       "⎧    270⋅P_{-1} - 27⋅P_{-2} + 2⋅P_{-3} - 490⋅P_{0} + 270⋅P_{1} - 27⋅P_{2} + 2⋅ ↪\n",
       "⎪Ψ₂: ───────────────────────────────────────────────────────────────────────── ↪\n",
       "⎨                                             2                                ↪\n",
       "⎪                                        180⋅d                                 ↪\n",
       "⎩                                                                              ↪\n",
       "\n",
       "↪ P_{3}      -39⋅P_{-1} + 12⋅P_{-2} - P_{-3} + 56⋅P_{0} - 39⋅P_{1} + 12⋅P_{2}  ↪\n",
       "↪ ─────, Ψ₄: ───────────────────────────────────────────────────────────────── ↪\n",
       "↪                                                 4                            ↪\n",
       "↪                                              6⋅d                             ↪\n",
       "↪                                                                              ↪\n",
       "\n",
       "↪ - P_{3}      15⋅P_{-1} - 6⋅P_{-2} + P_{-3} - 20⋅P_{0} + 15⋅P_{1} - 6⋅P_{2} + ↪\n",
       "↪ ───────, Ψ₆: ─────────────────────────────────────────────────────────────── ↪\n",
       "↪                                                6                             ↪\n",
       "↪                                               d                              ↪\n",
       "↪                                                                              ↪\n",
       "\n",
       "↪  P_{3}⎫\n",
       "↪ ──────⎪\n",
       "↪       ⎬\n",
       "↪       ⎪\n",
       "↪       ⎭"
      ]
     },
     "execution_count": 13,
     "metadata": {},
     "output_type": "execute_result"
    }
   ],
   "source": [
    "sol = sym.solve(lhs - rhs, psi_vec)\n",
    "sol"
   ]
  },
  {
   "cell_type": "code",
   "execution_count": 14,
   "id": "8ced7c65-6f83-4e30-8b37-a2f5f3f00136",
   "metadata": {},
   "outputs": [
    {
     "data": {
      "image/png": "[encoded data removed]",
      "text/latex": [
       "$\\displaystyle \\Psi_{2}$"
      ],
      "text/plain": [
       "Ψ₂"
      ]
     },
     "metadata": {},
     "output_type": "display_data"
    },
    {
     "data": {
      "image/png": "[encoded data removed]",
      "text/latex": [
       "$\\displaystyle \\frac{270 P_{-1} - 27 P_{-2} + 2 P_{-3} - 490 P_{0} + 270 P_{1} - 27 P_{2} + 2 P_{3}}{180 d^{2}}$"
      ],
      "text/plain": [
       "270⋅P_{-1} - 27⋅P_{-2} + 2⋅P_{-3} - 490⋅P_{0} + 270⋅P_{1} - 27⋅P_{2} + 2⋅P_{3}\n",
       "──────────────────────────────────────────────────────────────────────────────\n",
       "                                         2                                    \n",
       "                                    180⋅d                                     "
      ]
     },
     "metadata": {},
     "output_type": "display_data"
    },
    {
     "data": {
      "image/png": "[encoded data removed]",
      "text/latex": [
       "$\\displaystyle \\Psi_{4}$"
      ],
      "text/plain": [
       "Ψ₄"
      ]
     },
     "metadata": {},
     "output_type": "display_data"
    },
    {
     "data": {
      "image/png": "[encoded data removed]",
      "text/latex": [
       "$\\displaystyle \\frac{- 39 P_{-1} + 12 P_{-2} - P_{-3} + 56 P_{0} - 39 P_{1} + 12 P_{2} - P_{3}}{6 d^{4}}$"
      ],
      "text/plain": [
       "-39⋅P_{-1} + 12⋅P_{-2} - P_{-3} + 56⋅P_{0} - 39⋅P_{1} + 12⋅P_{2} - P_{3}\n",
       "────────────────────────────────────────────────────────────────────────\n",
       "                                     4                                  \n",
       "                                  6⋅d                                   "
      ]
     },
     "metadata": {},
     "output_type": "display_data"
    },
    {
     "data": {
      "image/png": "[encoded data removed]",
      "text/latex": [
       "$\\displaystyle \\Psi_{6}$"
      ],
      "text/plain": [
       "Ψ₆"
      ]
     },
     "metadata": {},
     "output_type": "display_data"
    },
    {
     "data": {
      "image/png": "[encoded data removed]",
      "text/latex": [
       "$\\displaystyle \\frac{15 P_{-1} - 6 P_{-2} + P_{-3} - 20 P_{0} + 15 P_{1} - 6 P_{2} + P_{3}}{d^{6}}$"
      ],
      "text/plain": [
       "15⋅P_{-1} - 6⋅P_{-2} + P_{-3} - 20⋅P_{0} + 15⋅P_{1} - 6⋅P_{2} + P_{3}\n",
       "─────────────────────────────────────────────────────────────────────\n",
       "                                  6                                  \n",
       "                                 d                                   "
      ]
     },
     "metadata": {},
     "output_type": "display_data"
    }
   ],
   "source": [
    "for key, val in sol.items():\n",
    "    display(key, val)"
   ]
  },
  {
   "cell_type": "markdown",
   "id": "327218ce-2a06-46bf-a54c-ae74924f2142",
   "metadata": {},
   "source": [
    "# Extract solution & coefficients for 2nd derivative"
   ]
  },
  {
   "cell_type": "code",
   "execution_count": 15,
   "id": "f9e1afa8-29c3-47cc-b95d-d6e22b06d1ef",
   "metadata": {},
   "outputs": [
    {
     "data": {
      "image/png": "[encoded data removed]",
      "text/latex": [
       "$\\displaystyle \\Psi_{2}$"
      ],
      "text/plain": [
       "Ψ₂"
      ]
     },
     "execution_count": 15,
     "metadata": {},
     "output_type": "execute_result"
    }
   ],
   "source": [
    "d2psi = psi_vec[0]\n",
    "d2psi"
   ]
  },
  {
   "cell_type": "code",
   "execution_count": 16,
   "id": "2b51aef3-916c-4a9a-b4ec-87326762e990",
   "metadata": {},
   "outputs": [
    {
     "data": {
      "image/png": "[encoded data removed]",
      "text/latex": [
       "$\\displaystyle \\frac{3 P_{-1}}{2 d^{2}} - \\frac{3 P_{-2}}{20 d^{2}} + \\frac{P_{-3}}{90 d^{2}} - \\frac{49 P_{0}}{18 d^{2}} + \\frac{3 P_{1}}{2 d^{2}} - \\frac{3 P_{2}}{20 d^{2}} + \\frac{P_{3}}{90 d^{2}}$"
      ],
      "text/plain": [
       "3⋅P_{-1}   3⋅P_{-2}   P_{-3}   49⋅P_{0}   3⋅P_{1}   3⋅P_{2}   P_{3}\n",
       "──────── - ──────── + ────── - ──────── + ─────── - ─────── + ─────\n",
       "     2          2         2         2         2          2        2\n",
       "  2⋅d       20⋅d      90⋅d      18⋅d       2⋅d       20⋅d     90⋅d "
      ]
     },
     "execution_count": 16,
     "metadata": {},
     "output_type": "execute_result"
    }
   ],
   "source": [
    "d2psi_sol = sol[d2psi].expand()\n",
    "d2psi_sol"
   ]
  },
  {
   "cell_type": "code",
   "execution_count": 17,
   "id": "b6e34256-de3d-48f8-8863-d038f604346c",
   "metadata": {},
   "outputs": [
    {
     "name": "stdout",
     "output_type": "stream",
     "text": [
      "φ_-3: 1/90\n",
      "φ_-2: -3/20\n",
      "φ_-1: 3/2\n",
      "φ_0: -49/18\n",
      "φ_1: 3/2\n",
      "φ_2: -3/20\n",
      "φ_3: 1/90\n",
      "Lowest common multiple: 180.0\n"
     ]
    },
    {
     "data": {
      "text/plain": [
       "(180.0, array([   2.,  -27.,  270., -490.,  270.,  -27.,    2.]))"
      ]
     },
     "execution_count": 17,
     "metadata": {},
     "output_type": "execute_result"
    }
   ],
   "source": [
    "denoms = list()\n",
    "coeffs = np.zeros(len(phis), dtype=float)\n",
    "for i, phi in enumerate(phis):\n",
    "    coeff_d2 = d2psi_sol.coeff(phi)\n",
    "    coeff = coeff_d2 * d**2\n",
    "    try:\n",
    "        denoms.append(coeff.q)\n",
    "    except AttributeError:\n",
    "        pass\n",
    "    print(f\"φ_{i-r}: {coeff}\")\n",
    "    coeffs[i] = float(coeff)\n",
    "lcm_A = float(sym.lcm(denoms))\n",
    "print(f\"Lowest common multiple: {lcm_A}\")\n",
    "coeffs *= float(lcm_A)\n",
    "lcm_A, coeffs"
   ]
  },
  {
   "cell_type": "markdown",
   "id": "291bbed4-f583-4f37-85e7-0433f0ecd969",
   "metadata": {},
   "source": [
    "# Print array expression for 2nd derivative"
   ]
  },
  {
   "cell_type": "code",
   "execution_count": 18,
   "id": "970d5ce7-7769-4fe0-b347-c8a96efc25bb",
   "metadata": {},
   "outputs": [
    {
     "data": {
      "text/plain": [
       "'1.0/180.0 * np.array([   2,  -27,  270, -490,  270,  -27,    2])'"
      ]
     },
     "execution_count": 18,
     "metadata": {},
     "output_type": "execute_result"
    }
   ],
   "source": [
    "A_line = f\"1.0/{lcm_A} * np.{repr(coeffs.astype(int))}\"\n",
    "A_line"
   ]
  },
  {
   "cell_type": "markdown",
   "id": "6dd9e63b-0b33-4bc2-92ad-b432ca2083b3",
   "metadata": {},
   "source": [
    "# Determine coefficients in B matrix"
   ]
  },
  {
   "cell_type": "code",
   "execution_count": 19,
   "id": "5f1b8e6d-07b7-42b5-9b12-4328c92b849b",
   "metadata": {},
   "outputs": [
    {
     "data": {
      "image/png": "[encoded data removed]",
      "text/latex": [
       "$\\displaystyle \\frac{d^{6}}{20160}$"
      ],
      "text/plain": [
       "  6  \n",
       " d   \n",
       "─────\n",
       "20160"
      ]
     },
     "execution_count": 19,
     "metadata": {},
     "output_type": "execute_result"
    }
   ],
   "source": [
    "B_prefact = sym.Rational(2, sym.factorial(2*r + 2)) * d**(2*r)\n",
    "B_prefact"
   ]
  },
  {
   "cell_type": "code",
   "execution_count": 20,
   "id": "a4914c08-4632-4a46-b987-dcee3a943332",
   "metadata": {},
   "outputs": [
    {
     "data": {
      "image/png": "[encoded data removed]",
      "text/latex": [
       "$\\displaystyle \\Psi_{6}$"
      ],
      "text/plain": [
       "Ψ₆"
      ]
     },
     "execution_count": 20,
     "metadata": {},
     "output_type": "execute_result"
    }
   ],
   "source": [
    "psi_last = psis[-1]\n",
    "psi_last"
   ]
  },
  {
   "cell_type": "code",
   "execution_count": 21,
   "id": "c0b4987e-cb2d-4b4b-87dc-cc742f790c6a",
   "metadata": {},
   "outputs": [
    {
     "data": {
      "image/png": "[encoded data removed]",
      "text/latex": [
       "$\\displaystyle \\frac{15 P_{-1}}{d^{6}} - \\frac{6 P_{-2}}{d^{6}} + \\frac{P_{-3}}{d^{6}} - \\frac{20 P_{0}}{d^{6}} + \\frac{15 P_{1}}{d^{6}} - \\frac{6 P_{2}}{d^{6}} + \\frac{P_{3}}{d^{6}}$"
      ],
      "text/plain": [
       "15⋅P_{-1}   6⋅P_{-2}   P_{-3}   20⋅P_{0}   15⋅P_{1}   6⋅P_{2}   P_{3}\n",
       "───────── - ──────── + ────── - ──────── + ──────── - ─────── + ─────\n",
       "    6           6         6         6          6         6        6  \n",
       "   d           d         d         d          d         d        d   "
      ]
     },
     "execution_count": 21,
     "metadata": {},
     "output_type": "execute_result"
    }
   ],
   "source": [
    "d2r_psi_sol = sol[psi_last].expand()\n",
    "d2r_psi_sol"
   ]
  },
  {
   "cell_type": "code",
   "execution_count": 22,
   "id": "d41b6214-bd28-4379-af12-2c488e391ef0",
   "metadata": {},
   "outputs": [
    {
     "name": "stdout",
     "output_type": "stream",
     "text": [
      "[20160, 3360, 1344, 1008, 1344, 3360, 20160]\n",
      "LCM=20160.0\n"
     ]
    },
    {
     "data": {
      "text/plain": [
       "(20160.0,\n",
       " array([ 1.000e+00, -6.000e+00,  1.500e+01,  2.014e+04,  1.500e+01,\n",
       "        -6.000e+00,  1.000e+00]))"
      ]
     },
     "execution_count": 22,
     "metadata": {},
     "output_type": "execute_result"
    }
   ],
   "source": [
    "coeffs_B_raw = np.zeros(len(phis), dtype=float)\n",
    "denoms_B = list()\n",
    "for i, phi in enumerate(phis):\n",
    "    coeff_d2r = B_prefact * d2r_psi_sol.coeff(phi)\n",
    "    try:\n",
    "        denoms_B.append(coeff_d2r.q)\n",
    "    except AttributeError:\n",
    "        pass\n",
    "    coeffs_B_raw[i] = coeff_d2r\n",
    "print(f\"{denoms_B}\")\n",
    "lcm_B = float(sym.lcm(denoms_B))\n",
    "print(f\"LCM={lcm_B}\")\n",
    "coeffs_B = coeffs_B_raw.copy()\n",
    "coeffs_B[r] = coeffs_B[r] + 1.0\n",
    "coeffs_B *= float(lcm_B)\n",
    "lcm_B, coeffs_B"
   ]
  },
  {
   "cell_type": "code",
   "execution_count": 23,
   "id": "76ac5149-0d1f-4f66-99d5-a3d9a4458d3f",
   "metadata": {},
   "outputs": [
    {
     "data": {
      "text/plain": [
       "'1.0/20160.0 * np.array([    1,    -6,    15, 20140,    15,    -6,     1])'"
      ]
     },
     "execution_count": 23,
     "metadata": {},
     "output_type": "execute_result"
    }
   ],
   "source": [
    "B_line = f\"1.0/{lcm_B} * np.{repr(coeffs_B.astype(int))}\"\n",
    "B_line"
   ]
  },
  {
   "cell_type": "code",
   "execution_count": null,
   "id": "fc303644-be85-4762-ad9e-ba8a8e069248",
   "metadata": {},
   "outputs": [],
   "source": []
  }
 ],
 "metadata": {
  "kernelspec": {
   "display_name": "Python 3 (ipykernel)",
   "language": "python",
   "name": "python3"
  },
  "language_info": {
   "codemirror_mode": {
    "name": "ipython",
    "version": 3
   },
   "file_extension": ".py",
   "mimetype": "text/x-python",
   "name": "python",
   "nbconvert_exporter": "python",
   "pygments_lexer": "ipython3",
   "version": "3.12.5"
  }
 },
 "nbformat": 4,
 "nbformat_minor": 5
}
